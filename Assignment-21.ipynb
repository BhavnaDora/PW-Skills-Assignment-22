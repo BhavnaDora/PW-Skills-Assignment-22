{
 "cells": [
  {
   "cell_type": "markdown",
   "id": "e9d12219-e389-4be0-a811-82d701a9ab20",
   "metadata": {},
   "source": [
    "#### (1)-"
   ]
  },
  {
   "cell_type": "code",
   "execution_count": 2,
   "id": "190f36a9-7f3c-48c6-85a3-8d0eb40509c4",
   "metadata": {},
   "outputs": [],
   "source": [
    "import pandas as pd"
   ]
  },
  {
   "cell_type": "code",
   "execution_count": 3,
   "id": "b3ec4f3f-9279-4134-b554-df11ae3f57ed",
   "metadata": {},
   "outputs": [
    {
     "data": {
      "text/plain": [
       "0     4\n",
       "1     8\n",
       "2    15\n",
       "3    16\n",
       "4    23\n",
       "5    42\n",
       "dtype: int64"
      ]
     },
     "execution_count": 3,
     "metadata": {},
     "output_type": "execute_result"
    }
   ],
   "source": [
    "s1= pd.Series([4, 8, 15, 16, 23, 42])\n",
    "s1"
   ]
  },
  {
   "cell_type": "markdown",
   "id": "243b620c-2880-42a2-b781-594bcc1c7e9f",
   "metadata": {},
   "source": [
    "#### (2)-"
   ]
  },
  {
   "cell_type": "code",
   "execution_count": 4,
   "id": "20fa0f54-6dba-447d-b5b5-831eafd79db4",
   "metadata": {},
   "outputs": [],
   "source": [
    "l1= [1, 2, \"a\", \"b\", 4, 5, 7, (2,3), \"hello\", \"bhavna\"]"
   ]
  },
  {
   "cell_type": "code",
   "execution_count": 5,
   "id": "ac436465-533e-4d32-a28d-04773c9bbce3",
   "metadata": {},
   "outputs": [
    {
     "data": {
      "text/plain": [
       "0         1\n",
       "1         2\n",
       "2         a\n",
       "3         b\n",
       "4         4\n",
       "5         5\n",
       "6         7\n",
       "7    (2, 3)\n",
       "8     hello\n",
       "9    bhavna\n",
       "dtype: object"
      ]
     },
     "execution_count": 5,
     "metadata": {},
     "output_type": "execute_result"
    }
   ],
   "source": [
    "pd.Series(l1)"
   ]
  },
  {
   "cell_type": "markdown",
   "id": "2de5c127-000e-40fa-bff8-2b2dd704a7ab",
   "metadata": {},
   "source": [
    "#### (3)-"
   ]
  },
  {
   "cell_type": "code",
   "execution_count": 6,
   "id": "bfc7e0e1-48c5-4376-bac7-79c054ce757d",
   "metadata": {},
   "outputs": [
    {
     "data": {
      "text/html": [
       "<div>\n",
       "<style scoped>\n",
       "    .dataframe tbody tr th:only-of-type {\n",
       "        vertical-align: middle;\n",
       "    }\n",
       "\n",
       "    .dataframe tbody tr th {\n",
       "        vertical-align: top;\n",
       "    }\n",
       "\n",
       "    .dataframe thead th {\n",
       "        text-align: right;\n",
       "    }\n",
       "</style>\n",
       "<table border=\"1\" class=\"dataframe\">\n",
       "  <thead>\n",
       "    <tr style=\"text-align: right;\">\n",
       "      <th></th>\n",
       "      <th>Name</th>\n",
       "      <th>Age</th>\n",
       "      <th>Gender</th>\n",
       "    </tr>\n",
       "  </thead>\n",
       "  <tbody>\n",
       "    <tr>\n",
       "      <th>0</th>\n",
       "      <td>Alice</td>\n",
       "      <td>25</td>\n",
       "      <td>Female</td>\n",
       "    </tr>\n",
       "    <tr>\n",
       "      <th>1</th>\n",
       "      <td>Bob</td>\n",
       "      <td>30</td>\n",
       "      <td>Male</td>\n",
       "    </tr>\n",
       "    <tr>\n",
       "      <th>2</th>\n",
       "      <td>Claire</td>\n",
       "      <td>27</td>\n",
       "      <td>Female</td>\n",
       "    </tr>\n",
       "  </tbody>\n",
       "</table>\n",
       "</div>"
      ],
      "text/plain": [
       "     Name  Age  Gender\n",
       "0   Alice   25  Female\n",
       "1     Bob   30    Male\n",
       "2  Claire   27  Female"
      ]
     },
     "execution_count": 6,
     "metadata": {},
     "output_type": "execute_result"
    }
   ],
   "source": [
    "d1= {\"Name\": [\"Alice\", \"Bob\", \"Claire\"],\n",
    "     \"Age\": [25,30,27],\n",
    "     \"Gender\": [\"Female\", \"Male\", \"Female\"]}\n",
    "\n",
    "pd.DataFrame(d1)"
   ]
  },
  {
   "cell_type": "markdown",
   "id": "3fb6f204-29bb-4703-a4e7-27ced5d67d7c",
   "metadata": {},
   "source": [
    "#### (4)-\n",
    "##### DataFrame in pandas is a 2 dimensional heterogenous tabular data structure with labelled axes- rows and columns\n",
    "##### Series on the other hand is a 1 dimensional homogenous array. DataFrames are mutable i.e once created new data can be added or dropped, but series are immutable."
   ]
  },
  {
   "cell_type": "code",
   "execution_count": 13,
   "id": "0f20b8be-c027-4a58-a1d2-8bc0d274aeb0",
   "metadata": {},
   "outputs": [],
   "source": [
    "d1= {\"Name\": [\"Alice\", \"Bob\", \"Claire\"],\n",
    "     \"Age\": [25,30,27],\n",
    "     \"Gender\": [\"Female\", \"Male\", \"Female\"]}\n",
    "\n",
    "df= pd.DataFrame(d1)"
   ]
  },
  {
   "cell_type": "code",
   "execution_count": 14,
   "id": "e7c9b265-3a88-4104-8be2-1d9bc685e568",
   "metadata": {},
   "outputs": [
    {
     "data": {
      "text/html": [
       "<div>\n",
       "<style scoped>\n",
       "    .dataframe tbody tr th:only-of-type {\n",
       "        vertical-align: middle;\n",
       "    }\n",
       "\n",
       "    .dataframe tbody tr th {\n",
       "        vertical-align: top;\n",
       "    }\n",
       "\n",
       "    .dataframe thead th {\n",
       "        text-align: right;\n",
       "    }\n",
       "</style>\n",
       "<table border=\"1\" class=\"dataframe\">\n",
       "  <thead>\n",
       "    <tr style=\"text-align: right;\">\n",
       "      <th></th>\n",
       "      <th>Name</th>\n",
       "      <th>Age</th>\n",
       "      <th>Gender</th>\n",
       "    </tr>\n",
       "  </thead>\n",
       "  <tbody>\n",
       "    <tr>\n",
       "      <th>0</th>\n",
       "      <td>Alice</td>\n",
       "      <td>25</td>\n",
       "      <td>Female</td>\n",
       "    </tr>\n",
       "    <tr>\n",
       "      <th>1</th>\n",
       "      <td>Bob</td>\n",
       "      <td>30</td>\n",
       "      <td>Male</td>\n",
       "    </tr>\n",
       "    <tr>\n",
       "      <th>2</th>\n",
       "      <td>Claire</td>\n",
       "      <td>27</td>\n",
       "      <td>Female</td>\n",
       "    </tr>\n",
       "  </tbody>\n",
       "</table>\n",
       "</div>"
      ],
      "text/plain": [
       "     Name  Age  Gender\n",
       "0   Alice   25  Female\n",
       "1     Bob   30    Male\n",
       "2  Claire   27  Female"
      ]
     },
     "execution_count": 14,
     "metadata": {},
     "output_type": "execute_result"
    }
   ],
   "source": [
    "df         # this is the dataframe"
   ]
  },
  {
   "cell_type": "code",
   "execution_count": 15,
   "id": "88a4d70b-0e12-418d-b428-84b253a303e2",
   "metadata": {},
   "outputs": [
    {
     "data": {
      "text/plain": [
       "0     Alice\n",
       "1       Bob\n",
       "2    Claire\n",
       "Name: Name, dtype: object"
      ]
     },
     "execution_count": 15,
     "metadata": {},
     "output_type": "execute_result"
    }
   ],
   "source": [
    "df[\"Name\"]      # this is a series"
   ]
  },
  {
   "cell_type": "code",
   "execution_count": 16,
   "id": "46d5a132-8d39-40f2-97b6-ddfb6d1590ba",
   "metadata": {},
   "outputs": [],
   "source": [
    "df.drop(\"Age\", axis=1, inplace=True)"
   ]
  },
  {
   "cell_type": "code",
   "execution_count": 18,
   "id": "473b765c-6a58-48a2-bb0b-2cd17ad3a0c3",
   "metadata": {},
   "outputs": [
    {
     "data": {
      "text/html": [
       "<div>\n",
       "<style scoped>\n",
       "    .dataframe tbody tr th:only-of-type {\n",
       "        vertical-align: middle;\n",
       "    }\n",
       "\n",
       "    .dataframe tbody tr th {\n",
       "        vertical-align: top;\n",
       "    }\n",
       "\n",
       "    .dataframe thead th {\n",
       "        text-align: right;\n",
       "    }\n",
       "</style>\n",
       "<table border=\"1\" class=\"dataframe\">\n",
       "  <thead>\n",
       "    <tr style=\"text-align: right;\">\n",
       "      <th></th>\n",
       "      <th>Name</th>\n",
       "      <th>Gender</th>\n",
       "    </tr>\n",
       "  </thead>\n",
       "  <tbody>\n",
       "    <tr>\n",
       "      <th>0</th>\n",
       "      <td>Alice</td>\n",
       "      <td>Female</td>\n",
       "    </tr>\n",
       "    <tr>\n",
       "      <th>1</th>\n",
       "      <td>Bob</td>\n",
       "      <td>Male</td>\n",
       "    </tr>\n",
       "    <tr>\n",
       "      <th>2</th>\n",
       "      <td>Claire</td>\n",
       "      <td>Female</td>\n",
       "    </tr>\n",
       "  </tbody>\n",
       "</table>\n",
       "</div>"
      ],
      "text/plain": [
       "     Name  Gender\n",
       "0   Alice  Female\n",
       "1     Bob    Male\n",
       "2  Claire  Female"
      ]
     },
     "execution_count": 18,
     "metadata": {},
     "output_type": "execute_result"
    }
   ],
   "source": [
    "df     #mutability of dataframe"
   ]
  },
  {
   "cell_type": "markdown",
   "id": "2321e78e-b7dd-4d62-a738-2360cf24915f",
   "metadata": {},
   "source": [
    "#### (5)- \n",
    "##### Common functions used to manipulate data in pandas DataFrame are- drop(), rename(), iloc[], loc[], select_dtypes(), set_index(), reset_index(), groupby(), Categorical(), apply() etc.\n",
    "##### Ex-"
   ]
  },
  {
   "cell_type": "code",
   "execution_count": 19,
   "id": "d26b7f16-f730-4785-b962-a7776c83c020",
   "metadata": {},
   "outputs": [],
   "source": [
    "d1= {\"Name\": [\"Alice\", \"Bob\", \"Claire\"],\n",
    "     \"Age\": [25,30,27],\n",
    "     \"Gender\": [\"Female\", \"Male\", \"Female\"]}\n",
    "\n",
    "df1= pd.DataFrame(d1)"
   ]
  },
  {
   "cell_type": "code",
   "execution_count": 20,
   "id": "e96be7f6-97c6-4bc2-a02b-62023f4d2d59",
   "metadata": {},
   "outputs": [
    {
     "data": {
      "text/html": [
       "<div>\n",
       "<style scoped>\n",
       "    .dataframe tbody tr th:only-of-type {\n",
       "        vertical-align: middle;\n",
       "    }\n",
       "\n",
       "    .dataframe tbody tr th {\n",
       "        vertical-align: top;\n",
       "    }\n",
       "\n",
       "    .dataframe thead th {\n",
       "        text-align: right;\n",
       "    }\n",
       "</style>\n",
       "<table border=\"1\" class=\"dataframe\">\n",
       "  <thead>\n",
       "    <tr style=\"text-align: right;\">\n",
       "      <th></th>\n",
       "      <th>Name</th>\n",
       "      <th>Age</th>\n",
       "      <th>Gender</th>\n",
       "    </tr>\n",
       "  </thead>\n",
       "  <tbody>\n",
       "    <tr>\n",
       "      <th>0</th>\n",
       "      <td>Alice</td>\n",
       "      <td>25</td>\n",
       "      <td>Female</td>\n",
       "    </tr>\n",
       "    <tr>\n",
       "      <th>1</th>\n",
       "      <td>Bob</td>\n",
       "      <td>30</td>\n",
       "      <td>Male</td>\n",
       "    </tr>\n",
       "    <tr>\n",
       "      <th>2</th>\n",
       "      <td>Claire</td>\n",
       "      <td>27</td>\n",
       "      <td>Female</td>\n",
       "    </tr>\n",
       "  </tbody>\n",
       "</table>\n",
       "</div>"
      ],
      "text/plain": [
       "     Name  Age  Gender\n",
       "0   Alice   25  Female\n",
       "1     Bob   30    Male\n",
       "2  Claire   27  Female"
      ]
     },
     "execution_count": 20,
     "metadata": {},
     "output_type": "execute_result"
    }
   ],
   "source": [
    "df1"
   ]
  },
  {
   "cell_type": "code",
   "execution_count": 21,
   "id": "9691a25f-532f-4aeb-bbdd-255aaaa2e065",
   "metadata": {},
   "outputs": [],
   "source": [
    "df1.set_index(\"Name\", inplace=True)       # it will overwrite the default indices with Name column"
   ]
  },
  {
   "cell_type": "code",
   "execution_count": 22,
   "id": "fc24789f-8eb6-4157-a7ab-aed86d219a1c",
   "metadata": {},
   "outputs": [
    {
     "data": {
      "text/html": [
       "<div>\n",
       "<style scoped>\n",
       "    .dataframe tbody tr th:only-of-type {\n",
       "        vertical-align: middle;\n",
       "    }\n",
       "\n",
       "    .dataframe tbody tr th {\n",
       "        vertical-align: top;\n",
       "    }\n",
       "\n",
       "    .dataframe thead th {\n",
       "        text-align: right;\n",
       "    }\n",
       "</style>\n",
       "<table border=\"1\" class=\"dataframe\">\n",
       "  <thead>\n",
       "    <tr style=\"text-align: right;\">\n",
       "      <th></th>\n",
       "      <th>Age</th>\n",
       "      <th>Gender</th>\n",
       "    </tr>\n",
       "    <tr>\n",
       "      <th>Name</th>\n",
       "      <th></th>\n",
       "      <th></th>\n",
       "    </tr>\n",
       "  </thead>\n",
       "  <tbody>\n",
       "    <tr>\n",
       "      <th>Alice</th>\n",
       "      <td>25</td>\n",
       "      <td>Female</td>\n",
       "    </tr>\n",
       "    <tr>\n",
       "      <th>Bob</th>\n",
       "      <td>30</td>\n",
       "      <td>Male</td>\n",
       "    </tr>\n",
       "    <tr>\n",
       "      <th>Claire</th>\n",
       "      <td>27</td>\n",
       "      <td>Female</td>\n",
       "    </tr>\n",
       "  </tbody>\n",
       "</table>\n",
       "</div>"
      ],
      "text/plain": [
       "        Age  Gender\n",
       "Name               \n",
       "Alice    25  Female\n",
       "Bob      30    Male\n",
       "Claire   27  Female"
      ]
     },
     "execution_count": 22,
     "metadata": {},
     "output_type": "execute_result"
    }
   ],
   "source": [
    "df1"
   ]
  },
  {
   "cell_type": "markdown",
   "id": "a1cbc6a6-618f-48f8-ac83-b2882844bb17",
   "metadata": {},
   "source": [
    "#### (6)-\n",
    "##### Series is immuatble. DataFrame and panel are mutable."
   ]
  },
  {
   "cell_type": "markdown",
   "id": "b8cba926-5185-4caa-b5a2-292d8dcbcdfa",
   "metadata": {},
   "source": [
    "#### (7)-"
   ]
  },
  {
   "cell_type": "code",
   "execution_count": 24,
   "id": "f2970792-6263-46e1-804c-12b6bce43169",
   "metadata": {},
   "outputs": [
    {
     "data": {
      "text/html": [
       "<div>\n",
       "<style scoped>\n",
       "    .dataframe tbody tr th:only-of-type {\n",
       "        vertical-align: middle;\n",
       "    }\n",
       "\n",
       "    .dataframe tbody tr th {\n",
       "        vertical-align: top;\n",
       "    }\n",
       "\n",
       "    .dataframe thead th {\n",
       "        text-align: right;\n",
       "    }\n",
       "</style>\n",
       "<table border=\"1\" class=\"dataframe\">\n",
       "  <thead>\n",
       "    <tr style=\"text-align: right;\">\n",
       "      <th></th>\n",
       "      <th>key1</th>\n",
       "      <th>key2</th>\n",
       "      <th>key3</th>\n",
       "    </tr>\n",
       "  </thead>\n",
       "  <tbody>\n",
       "    <tr>\n",
       "      <th>0</th>\n",
       "      <td>4</td>\n",
       "      <td>a</td>\n",
       "      <td>1</td>\n",
       "    </tr>\n",
       "    <tr>\n",
       "      <th>1</th>\n",
       "      <td>8</td>\n",
       "      <td>b</td>\n",
       "      <td>2</td>\n",
       "    </tr>\n",
       "    <tr>\n",
       "      <th>2</th>\n",
       "      <td>15</td>\n",
       "      <td>c</td>\n",
       "      <td>bhavna</td>\n",
       "    </tr>\n",
       "    <tr>\n",
       "      <th>3</th>\n",
       "      <td>16</td>\n",
       "      <td>d</td>\n",
       "      <td>3</td>\n",
       "    </tr>\n",
       "    <tr>\n",
       "      <th>4</th>\n",
       "      <td>23</td>\n",
       "      <td>e</td>\n",
       "      <td>4</td>\n",
       "    </tr>\n",
       "    <tr>\n",
       "      <th>5</th>\n",
       "      <td>42</td>\n",
       "      <td>f</td>\n",
       "      <td>5</td>\n",
       "    </tr>\n",
       "  </tbody>\n",
       "</table>\n",
       "</div>"
      ],
      "text/plain": [
       "   key1 key2    key3\n",
       "0     4    a       1\n",
       "1     8    b       2\n",
       "2    15    c  bhavna\n",
       "3    16    d       3\n",
       "4    23    e       4\n",
       "5    42    f       5"
      ]
     },
     "execution_count": 24,
     "metadata": {},
     "output_type": "execute_result"
    }
   ],
   "source": [
    "s1= pd.Series([4, 8, 15, 16, 23, 42])\n",
    "s2= pd.Series([\"a\",\"b\",\"c\",\"d\",\"e\",\"f\"])\n",
    "s3= pd.Series([1, 2, \"bhavna\", 3, 4, 5])\n",
    "\n",
    "dict1= {\"key1\": s1, \"key2\": s2, \"key3\": s3}\n",
    "pd.DataFrame(dict1)"
   ]
  },
  {
   "cell_type": "code",
   "execution_count": null,
   "id": "c5f9082f-05d2-4eca-9333-9372977dcb92",
   "metadata": {},
   "outputs": [],
   "source": []
  }
 ],
 "metadata": {
  "kernelspec": {
   "display_name": "Python 3 (ipykernel)",
   "language": "python",
   "name": "python3"
  },
  "language_info": {
   "codemirror_mode": {
    "name": "ipython",
    "version": 3
   },
   "file_extension": ".py",
   "mimetype": "text/x-python",
   "name": "python",
   "nbconvert_exporter": "python",
   "pygments_lexer": "ipython3",
   "version": "3.10.8"
  }
 },
 "nbformat": 4,
 "nbformat_minor": 5
}
